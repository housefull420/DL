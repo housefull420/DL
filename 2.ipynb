{
  "nbformat": 4,
  "nbformat_minor": 0,
  "metadata": {
    "colab": {
      "provenance": []
    },
    "kernelspec": {
      "name": "python3",
      "display_name": "Python 3"
    },
    "language_info": {
      "name": "python"
    }
  },
  "cells": [
    {
      "cell_type": "code",
      "source": [
        "from sklearn.datasets import make_classification"
      ],
      "metadata": {
        "id": "z-wGISsi809T"
      },
      "execution_count": 1,
      "outputs": []
    },
    {
      "cell_type": "code",
      "source": [
        "import pandas as pd\n",
        "import numpy as np"
      ],
      "metadata": {
        "id": "Ie8Hqi7X81EZ"
      },
      "execution_count": 2,
      "outputs": []
    },
    {
      "cell_type": "code",
      "source": [
        "from collections import Counter"
      ],
      "metadata": {
        "id": "8dU5ExBE81IK"
      },
      "execution_count": 3,
      "outputs": []
    },
    {
      "cell_type": "code",
      "source": [
        "import matplotlib.pyplot as plt\n",
        "import seaborn as sns"
      ],
      "metadata": {
        "id": "JGUmR-2R81LJ"
      },
      "execution_count": 4,
      "outputs": []
    },
    {
      "cell_type": "code",
      "source": [
        "x,y = make_classification (n_samples=200000, n_features=30, n_informative=30,n_redundant=0, n_clusters_per_class=1,\n",
        "weights=[0.99, 0.001], class_sep=0.5, random_state=0)"
      ],
      "metadata": {
        "id": "V9or6Q_F81OR"
      },
      "execution_count": 5,
      "outputs": []
    },
    {
      "cell_type": "code",
      "source": [
        "from sklearn.model_selection import train_test_split"
      ],
      "metadata": {
        "id": "9NJF5pxJ81Ri"
      },
      "execution_count": 6,
      "outputs": []
    },
    {
      "cell_type": "code",
      "source": [
        "x_train, x_test, y_train, y_test = train_test_split(x, y, test_size=0.2, random_state=42)"
      ],
      "metadata": {
        "id": "KQHmjPoe81Uq"
      },
      "execution_count": 7,
      "outputs": []
    },
    {
      "cell_type": "code",
      "source": [
        "print('The number of records in the training dataset is', x_train.shape[0])\n",
        "print('The number of records in the test dataset is', x_test.shape[0])"
      ],
      "metadata": {
        "id": "296nRnqx81a6",
        "colab": {
          "base_uri": "https://localhost:8080/"
        },
        "outputId": "25a0b4ea-b7fb-4aed-f729-04731d94090b"
      },
      "execution_count": 8,
      "outputs": [
        {
          "output_type": "stream",
          "name": "stdout",
          "text": [
            "The number of records in the training dataset is 160000\n",
            "The number of records in the test dataset is 40000\n"
          ]
        }
      ]
    },
    {
      "cell_type": "code",
      "source": [
        "x_train"
      ],
      "metadata": {
        "id": "cIsRpQbh81eC",
        "colab": {
          "base_uri": "https://localhost:8080/"
        },
        "outputId": "344346e3-2c30-442f-ce8d-84b3bed56b13"
      },
      "execution_count": 9,
      "outputs": [
        {
          "output_type": "execute_result",
          "data": {
            "text/plain": [
              "array([[ 2.31430061,  4.62331529, -1.00049792, ..., -0.24566389,\n",
              "        -3.83757346,  1.72628541],\n",
              "       [ 1.07151655,  2.42481664, -0.45686723, ...,  1.72564142,\n",
              "        -0.53243663, -5.3208564 ],\n",
              "       [-2.55751016, -0.8600968 , -3.99256551, ..., -1.34381535,\n",
              "        -0.16411634,  0.16272455],\n",
              "       ...,\n",
              "       [-3.76652097, -0.46180143,  6.30887927, ...,  0.85230717,\n",
              "        -0.85510624, -2.96779288],\n",
              "       [-4.88472382, -1.02458936, -2.92244663, ..., -3.0854598 ,\n",
              "        -4.67225791, -2.39862079],\n",
              "       [ 5.03075865,  0.28778596,  3.92013487, ...,  3.17748982,\n",
              "        -8.09692272, -1.71095665]])"
            ]
          },
          "metadata": {},
          "execution_count": 9
        }
      ]
    },
    {
      "cell_type": "code",
      "source": [
        "x_train.shape"
      ],
      "metadata": {
        "id": "w93nNOLV81ha",
        "colab": {
          "base_uri": "https://localhost:8080/"
        },
        "outputId": "ef69a623-f500-4580-a004-322fa80093a0"
      },
      "execution_count": 10,
      "outputs": [
        {
          "output_type": "execute_result",
          "data": {
            "text/plain": [
              "(160000, 30)"
            ]
          },
          "metadata": {},
          "execution_count": 10
        }
      ]
    },
    {
      "cell_type": "code",
      "source": [
        "import keras\n",
        "from keras.layers import Dense\n",
        "from keras.models import Sequential\n",
        "from sklearn.metrics import classification_report"
      ],
      "metadata": {
        "id": "X0YcmXXX81kp"
      },
      "execution_count": 11,
      "outputs": []
    },
    {
      "cell_type": "code",
      "source": [
        "x_train_normal = x_train[np.where(y_train ==0)]\n",
        "input = keras.layers. Input (shape=(30,))\n",
        "encoder = Sequential([\n",
        "Dense(15, activation= 'relu'),\n",
        "Dense (8, activation= 'relu'),\n",
        "Dense (4, activation='relu')])(input)"
      ],
      "metadata": {
        "id": "ciM_vBXF81q5"
      },
      "execution_count": 12,
      "outputs": []
    },
    {
      "cell_type": "code",
      "source": [
        "decoder = Sequential([\n",
        "Dense(8, activation=\"relu\"),\n",
        "Dense(15, activation=\"relu\"),\n",
        "Dense(30, activation=\"sigmoid\")])(encoder)"
      ],
      "metadata": {
        "id": "WUFDEmjz81t6"
      },
      "execution_count": 13,
      "outputs": []
    },
    {
      "cell_type": "code",
      "source": [
        "autoencoder = keras. Model (inputs=input, outputs=decoder)\n",
        "autoencoder.summary()"
      ],
      "metadata": {
        "id": "nVDTvYgj81xC",
        "colab": {
          "base_uri": "https://localhost:8080/"
        },
        "outputId": "3607c97f-49e4-4cdc-b77c-6615a894eb03"
      },
      "execution_count": 14,
      "outputs": [
        {
          "output_type": "stream",
          "name": "stdout",
          "text": [
            "Model: \"model\"\n",
            "_________________________________________________________________\n",
            " Layer (type)                Output Shape              Param #   \n",
            "=================================================================\n",
            " input_1 (InputLayer)        [(None, 30)]              0         \n",
            "                                                                 \n",
            " sequential (Sequential)     (None, 4)                 629       \n",
            "                                                                 \n",
            " sequential_1 (Sequential)   (None, 30)                655       \n",
            "                                                                 \n",
            "=================================================================\n",
            "Total params: 1284 (5.02 KB)\n",
            "Trainable params: 1284 (5.02 KB)\n",
            "Non-trainable params: 0 (0.00 Byte)\n",
            "_________________________________________________________________\n"
          ]
        }
      ]
    },
    {
      "cell_type": "code",
      "source": [
        "autoencoder.compile(optimizer='adam', loss='mae')"
      ],
      "metadata": {
        "id": "js98lLt2810B"
      },
      "execution_count": 15,
      "outputs": []
    },
    {
      "cell_type": "code",
      "source": [
        "\n",
        "history = autoencoder.fit(x_train_normal, x_train_normal, epochs=4,\n",
        "\n",
        "batch_size=64,\n",
        "\n",
        "validation_data=(x_test, x_test),\n",
        "\n",
        "shuffle=True)"
      ],
      "metadata": {
        "id": "Y9q67Aao813C",
        "colab": {
          "base_uri": "https://localhost:8080/"
        },
        "outputId": "61b6f7ff-7a05-4e3c-b10c-c879945196e2"
      },
      "execution_count": 16,
      "outputs": [
        {
          "output_type": "stream",
          "name": "stdout",
          "text": [
            "Epoch 1/4\n",
            "2474/2474 [==============================] - 16s 5ms/step - loss: 2.5483 - val_loss: 2.5187\n",
            "Epoch 2/4\n",
            "2474/2474 [==============================] - 8s 3ms/step - loss: 2.5123 - val_loss: 2.5087\n",
            "Epoch 3/4\n",
            "2474/2474 [==============================] - 8s 3ms/step - loss: 2.5060 - val_loss: 2.5046\n",
            "Epoch 4/4\n",
            "2474/2474 [==============================] - 9s 4ms/step - loss: 2.5019 - val_loss: 2.5005\n"
          ]
        }
      ]
    },
    {
      "cell_type": "code",
      "source": [
        "plt.plot(history.history[\"loss\"], label=\"Training Loss\")\n",
        "\n",
        "plt.plot(history.history[\"val_loss\"], label=\"Validation Loss\")\n",
        "\n",
        "plt.legend()"
      ],
      "metadata": {
        "id": "i7aV6Dh6816K",
        "colab": {
          "base_uri": "https://localhost:8080/",
          "height": 448
        },
        "outputId": "9b75ff60-290b-405c-a710-98e0c7cf560c"
      },
      "execution_count": 17,
      "outputs": [
        {
          "output_type": "execute_result",
          "data": {
            "text/plain": [
              "<matplotlib.legend.Legend at 0x7cba2a948820>"
            ]
          },
          "metadata": {},
          "execution_count": 17
        },
        {
          "output_type": "display_data",
          "data": {
            "text/plain": [
              "<Figure size 640x480 with 1 Axes>"
            ],
            "image/png": "[encoded data removed]"
          },
          "metadata": {}
        }
      ]
    },
    {
      "cell_type": "code",
      "source": [
        "prediction=autoencoder.predict(x_test)\n",
        "prediction_loss = keras.losses.mae(prediction, x_test)"
      ],
      "metadata": {
        "id": "7nOuDRw48180",
        "colab": {
          "base_uri": "https://localhost:8080/"
        },
        "outputId": "500a99a7-3b3a-424f-fabf-72a09ff3eed7"
      },
      "execution_count": 18,
      "outputs": [
        {
          "output_type": "stream",
          "name": "stdout",
          "text": [
            "1250/1250 [==============================] - 2s 2ms/step\n"
          ]
        }
      ]
    },
    {
      "cell_type": "code",
      "source": [
        "loss_threshold = np.percentile(prediction_loss, 98)\n",
        "\n",
        "print(f'The prediction loss threshold for 2% of outliers is {loss_threshold:.2f}')"
      ],
      "metadata": {
        "id": "G3xi8J0W81_h",
        "colab": {
          "base_uri": "https://localhost:8080/"
        },
        "outputId": "165faa1f-9146-4402-a2ec-479a7699fd36"
      },
      "execution_count": 19,
      "outputs": [
        {
          "output_type": "stream",
          "name": "stdout",
          "text": [
            "The prediction loss threshold for 2% of outliers is 3.58\n"
          ]
        }
      ]
    },
    {
      "cell_type": "code",
      "source": [
        "sns.histplot(prediction_loss, bins=30, alpha=0.8)\n",
        "plt.axvline(x=loss_threshold, color='orange')"
      ],
      "metadata": {
        "id": "GuMIqKnx85OR",
        "colab": {
          "base_uri": "https://localhost:8080/",
          "height": 447
        },
        "outputId": "a6924dd0-ad0a-47d2-f8e4-4d011dbfe1d9"
      },
      "execution_count": 20,
      "outputs": [
        {
          "output_type": "execute_result",
          "data": {
            "text/plain": [
              "<matplotlib.lines.Line2D at 0x7cba2bbfb250>"
            ]
          },
          "metadata": {},
          "execution_count": 20
        },
        {
          "output_type": "display_data",
          "data": {
            "text/plain": [
              "<Figure size 640x480 with 1 Axes>"
            ],
            "image/png": "[encoded data removed]"
          },
          "metadata": {}
        }
      ]
    },
    {
      "cell_type": "code",
      "source": [
        "threshold_prediction = [0 if i < loss_threshold else 1 for i in prediction_loss]\n",
        "\n",
        "print(classification_report(y_test, threshold_prediction))"
      ],
      "metadata": {
        "id": "lpMqfsJo85RI",
        "colab": {
          "base_uri": "https://localhost:8080/"
        },
        "outputId": "6b1d1e12-0a12-4062-85d9-6209b0bc4168"
      },
      "execution_count": 21,
      "outputs": [
        {
          "output_type": "stream",
          "name": "stdout",
          "text": [
            "              precision    recall  f1-score   support\n",
            "\n",
            "           0       0.99      0.98      0.99     39608\n",
            "           1       0.01      0.02      0.01       392\n",
            "\n",
            "    accuracy                           0.97     40000\n",
            "   macro avg       0.50      0.50      0.50     40000\n",
            "weighted avg       0.98      0.97      0.98     40000\n",
            "\n"
          ]
        }
      ]
    }
  ]
}