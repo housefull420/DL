{
 "cells": [
  {
   "cell_type": "code",
   "execution_count": 1,
   "id": "486acfaf",
   "metadata": {},
   "outputs": [],
   "source": [
    "import numpy as np"
   ]
  },
  {
   "cell_type": "code",
   "execution_count": 2,
   "id": "3c56b91e",
   "metadata": {},
   "outputs": [
    {
     "name": "stdout",
     "output_type": "stream",
     "text": [
      "(10, 5)\n",
      "[[1 0 0 0 0]\n",
      " [0 1 1 1 1]\n",
      " [0 0 1 0 1]\n",
      " [0 1 1 1 0]\n",
      " [0 1 0 1 0]\n",
      " [1 0 1 0 0]\n",
      " [0 0 0 1 0]\n",
      " [1 1 0 1 0]\n",
      " [0 1 1 1 1]\n",
      " [1 0 0 0 0]]\n"
     ]
    }
   ],
   "source": [
    "num_users = 10 \n",
    "num_movies = 5 \n",
    "ratings_data = np.random.randint(0, 2, size=(num_users, num_movies)) \n",
    "print(ratings_data.shape) \n",
    "print(ratings_data) "
   ]
  },
  {
   "cell_type": "code",
   "execution_count": 3,
   "id": "0b5b5949",
   "metadata": {},
   "outputs": [],
   "source": [
    "def sigmoid(x): \n",
    "    return 1 / (1 + np.exp(-x)) "
   ]
  },
  {
   "cell_type": "code",
   "execution_count": 4,
   "id": "5a85ccb4",
   "metadata": {},
   "outputs": [
    {
     "name": "stdout",
     "output_type": "stream",
     "text": [
      "(5, 3)\n",
      "[[-0.24921593 -0.00291876  0.1009504 ]\n",
      " [ 0.00712028 -0.08936638 -0.09502038]\n",
      " [ 0.07535017 -0.06761315  0.01220504]\n",
      " [ 0.08743992  0.01413193 -0.03282228]\n",
      " [-0.07725052 -0.08562806  0.04644373]]\n"
     ]
    }
   ],
   "source": [
    "num_hidden_units = 3 \n",
    "weights = np.random.normal(0, 0.1, (num_movies, num_hidden_units)) \n",
    "print(weights.shape) \n",
    "print(weights) "
   ]
  },
  {
   "cell_type": "code",
   "execution_count": 5,
   "id": "ee231fba",
   "metadata": {},
   "outputs": [
    {
     "name": "stdout",
     "output_type": "stream",
     "text": [
      "(5,)\n",
      "(3,)\n"
     ]
    }
   ],
   "source": [
    "visible_bias = np.zeros(num_movies) \n",
    "print(visible_bias.shape) \n",
    "hidden_bias = np.zeros(num_hidden_units) \n",
    "print(hidden_bias.shape) \n",
    "learning_rate = 0.1 "
   ]
  },
  {
   "cell_type": "code",
   "execution_count": 7,
   "id": "b773d733",
   "metadata": {},
   "outputs": [],
   "source": [
    "num_epochs = 1000 \n",
    "for epoch in range(num_epochs): \n",
    "    for user_ratings in ratings_data:\n",
    "        hidden_probabilities = sigmoid(np.dot(user_ratings, weights) + hidden_bias)\n",
    "        positive_associations = np.outer(user_ratings, hidden_probabilities)"
   ]
  },
  {
   "cell_type": "code",
   "execution_count": 9,
   "id": "6419948d",
   "metadata": {},
   "outputs": [],
   "source": [
    "visible_probabilities = sigmoid(np.dot(hidden_probabilities, weights.T) +visible_bias)\n",
    "hidden_probabilities_recon = sigmoid(np.dot(visible_probabilities, weights) +hidden_bias)\n",
    "negative_associations = np.outer(visible_probabilities, hidden_probabilities_recon)      "
   ]
  },
  {
   "cell_type": "code",
   "execution_count": 10,
   "id": "0625f754",
   "metadata": {},
   "outputs": [],
   "source": [
    "weights += learning_rate * (positive_associations - negative_associations)         \n",
    "visible_bias += learning_rate * (user_ratings - visible_probabilities)         \n",
    "hidden_bias += learning_rate * (hidden_probabilities - hidden_probabilities_recon) "
   ]
  },
  {
   "cell_type": "code",
   "execution_count": 12,
   "id": "8954296d",
   "metadata": {},
   "outputs": [
    {
     "name": "stdout",
     "output_type": "stream",
     "text": [
      "[1 0 1 0 0]\n",
      "Predicted ratings for user 5 : [0.50684418 0.45707757 0.48052218 0.4855785  0.46619234]\n"
     ]
    }
   ],
   "source": [
    "user_id = 5 \n",
    "user_ratings = ratings_data[user_id] \n",
    "print(user_ratings) \n",
    "hidden_probabilities = sigmoid(np.dot(user_ratings, weights) + hidden_bias) \n",
    "visible_probabilities = sigmoid(np.dot(hidden_probabilities, weights.T) + visible_bias) \n",
    "predicted_ratings = visible_probabilities \n",
    "print(\"Predicted ratings for user\", user_id, \":\", predicted_ratings) "
   ]
  },
  {
   "cell_type": "code",
   "execution_count": null,
   "id": "4f3da086",
   "metadata": {},
   "outputs": [],
   "source": []
  }
 ],
 "metadata": {
  "kernelspec": {
   "display_name": "Python 3 (ipykernel)",
   "language": "python",
   "name": "python3"
  },
  "language_info": {
   "codemirror_mode": {
    "name": "ipython",
    "version": 3
   },
   "file_extension": ".py",
   "mimetype": "text/x-python",
   "name": "python",
   "nbconvert_exporter": "python",
   "pygments_lexer": "ipython3",
   "version": "3.11.5"
  }
 },
 "nbformat": 4,
 "nbformat_minor": 5
}
